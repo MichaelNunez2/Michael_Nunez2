{
 "cells": [
  {
   "cell_type": "code",
   "execution_count": 2,
   "metadata": {},
   "outputs": [],
   "source": [
    "import pandas as pd \n",
    "import numpy as np\n",
    "import seaborn as sns\n",
    "import matplotlib.pyplot as plt\n",
    "%matplotlib inline "
   ]
  },
  {
   "cell_type": "code",
   "execution_count": 3,
   "metadata": {},
   "outputs": [],
   "source": [
    "\n",
    "df = pd.read_csv ('GE-79_Summary_Table-Labs-BP-Ophthalmogic-Walk.csv' , encoding= 'unicode_escape')\n"
   ]
  },
  {
   "cell_type": "code",
   "execution_count": 4,
   "metadata": {},
   "outputs": [
    {
     "data": {
      "text/html": [
       "<div>\n",
       "<style scoped>\n",
       "    .dataframe tbody tr th:only-of-type {\n",
       "        vertical-align: middle;\n",
       "    }\n",
       "\n",
       "    .dataframe tbody tr th {\n",
       "        vertical-align: top;\n",
       "    }\n",
       "\n",
       "    .dataframe thead th {\n",
       "        text-align: right;\n",
       "    }\n",
       "</style>\n",
       "<table border=\"1\" class=\"dataframe\">\n",
       "  <thead>\n",
       "    <tr style=\"text-align: right;\">\n",
       "      <th></th>\n",
       "      <th>patient ID</th>\n",
       "      <th>Visit</th>\n",
       "      <th>PREVIOUS TOBACCO USE</th>\n",
       "      <th>CURRENT TOBACCO USE</th>\n",
       "      <th>PackYears</th>\n",
       "      <th>Years</th>\n",
       "      <th>PREVIOUS ALCOHOL USE</th>\n",
       "      <th>CURRENT ALCOHOL USE</th>\n",
       "      <th>ALCOHOL Dose/Week</th>\n",
       "      <th>Dizziness AUTONOMIC SYMPTOMS</th>\n",
       "      <th>...</th>\n",
       "      <th>Left Eye Macular Edema</th>\n",
       "      <th>Macular Edema (more advanced eye)</th>\n",
       "      <th>GAIT - Walk 1 distance (m)</th>\n",
       "      <th>Gait (Normal) RPE Start (1-10)</th>\n",
       "      <th>Gait (Normal) RPE End (1-10)</th>\n",
       "      <th>Gait (DT) RPE Start (1-10)</th>\n",
       "      <th>Gait (DT) RPE End (1-10)</th>\n",
       "      <th>GAIT - Walk 1 speed (m/s)</th>\n",
       "      <th>Gait (Dual Task) - Distance (m)</th>\n",
       "      <th>Gait (Dual Task) - Speed (m/s)</th>\n",
       "    </tr>\n",
       "  </thead>\n",
       "  <tbody>\n",
       "    <tr>\n",
       "      <th>0</th>\n",
       "      <td>S0030</td>\n",
       "      <td>2</td>\n",
       "      <td>No</td>\n",
       "      <td>No</td>\n",
       "      <td>NaN</td>\n",
       "      <td>NaN</td>\n",
       "      <td>NaN</td>\n",
       "      <td>Yes</td>\n",
       "      <td>2.0</td>\n",
       "      <td>NO</td>\n",
       "      <td>...</td>\n",
       "      <td>0</td>\n",
       "      <td>0</td>\n",
       "      <td>NaN</td>\n",
       "      <td>0.0</td>\n",
       "      <td>3.0</td>\n",
       "      <td>2.0</td>\n",
       "      <td>5.0</td>\n",
       "      <td>NaN</td>\n",
       "      <td>342.72</td>\n",
       "      <td>0.952000</td>\n",
       "    </tr>\n",
       "    <tr>\n",
       "      <th>1</th>\n",
       "      <td>S0033</td>\n",
       "      <td>2</td>\n",
       "      <td>Yes</td>\n",
       "      <td>No</td>\n",
       "      <td>40.0</td>\n",
       "      <td>40.0</td>\n",
       "      <td>Yes</td>\n",
       "      <td>Yes</td>\n",
       "      <td>1.0</td>\n",
       "      <td>NO</td>\n",
       "      <td>...</td>\n",
       "      <td>0</td>\n",
       "      <td>0</td>\n",
       "      <td>NaN</td>\n",
       "      <td>1.0</td>\n",
       "      <td>3.0</td>\n",
       "      <td>1.0</td>\n",
       "      <td>1.0</td>\n",
       "      <td>NaN</td>\n",
       "      <td>228.66</td>\n",
       "      <td>0.635167</td>\n",
       "    </tr>\n",
       "    <tr>\n",
       "      <th>2</th>\n",
       "      <td>S0064</td>\n",
       "      <td>2</td>\n",
       "      <td>No</td>\n",
       "      <td>No</td>\n",
       "      <td>NaN</td>\n",
       "      <td>NaN</td>\n",
       "      <td>Yes</td>\n",
       "      <td>Yes</td>\n",
       "      <td>0.0</td>\n",
       "      <td>NO</td>\n",
       "      <td>...</td>\n",
       "      <td>0</td>\n",
       "      <td>0</td>\n",
       "      <td>NaN</td>\n",
       "      <td>1.0</td>\n",
       "      <td>2.0</td>\n",
       "      <td>1.0</td>\n",
       "      <td>3.0</td>\n",
       "      <td>NaN</td>\n",
       "      <td>364.51</td>\n",
       "      <td>1.012528</td>\n",
       "    </tr>\n",
       "    <tr>\n",
       "      <th>3</th>\n",
       "      <td>S0068</td>\n",
       "      <td>2</td>\n",
       "      <td>NaN</td>\n",
       "      <td>No</td>\n",
       "      <td>NaN</td>\n",
       "      <td>NaN</td>\n",
       "      <td>NaN</td>\n",
       "      <td>No</td>\n",
       "      <td>0.0</td>\n",
       "      <td>NO</td>\n",
       "      <td>...</td>\n",
       "      <td>0</td>\n",
       "      <td>0</td>\n",
       "      <td>NaN</td>\n",
       "      <td>0.0</td>\n",
       "      <td>3.0</td>\n",
       "      <td>2.0</td>\n",
       "      <td>3.0</td>\n",
       "      <td>NaN</td>\n",
       "      <td>272.23</td>\n",
       "      <td>0.756194</td>\n",
       "    </tr>\n",
       "    <tr>\n",
       "      <th>4</th>\n",
       "      <td>S0078</td>\n",
       "      <td>2</td>\n",
       "      <td>No</td>\n",
       "      <td>No</td>\n",
       "      <td>NaN</td>\n",
       "      <td>NaN</td>\n",
       "      <td>Yes</td>\n",
       "      <td>Yes</td>\n",
       "      <td>0.0</td>\n",
       "      <td>NO</td>\n",
       "      <td>...</td>\n",
       "      <td>0</td>\n",
       "      <td>0</td>\n",
       "      <td>NaN</td>\n",
       "      <td>0.0</td>\n",
       "      <td>NaN</td>\n",
       "      <td>NaN</td>\n",
       "      <td>NaN</td>\n",
       "      <td>0.978139</td>\n",
       "      <td>NaN</td>\n",
       "      <td>NaN</td>\n",
       "    </tr>\n",
       "  </tbody>\n",
       "</table>\n",
       "<p>5 rows × 170 columns</p>\n",
       "</div>"
      ],
      "text/plain": [
       "  patient ID  Visit PREVIOUS TOBACCO USE CURRENT TOBACCO USE  PackYears  \\\n",
       "0      S0030      2                   No                  No        NaN   \n",
       "1      S0033      2                  Yes                  No       40.0   \n",
       "2      S0064      2                   No                  No        NaN   \n",
       "3      S0068      2                  NaN                  No        NaN   \n",
       "4      S0078      2                   No                  No        NaN   \n",
       "\n",
       "   Years PREVIOUS ALCOHOL USE CURRENT ALCOHOL USE  ALCOHOL Dose/Week  \\\n",
       "0    NaN                  NaN                 Yes                2.0   \n",
       "1   40.0                  Yes                 Yes                1.0   \n",
       "2    NaN                  Yes                 Yes                0.0   \n",
       "3    NaN                  NaN                  No                0.0   \n",
       "4    NaN                  Yes                 Yes                0.0   \n",
       "\n",
       "  Dizziness AUTONOMIC SYMPTOMS  ... Left Eye Macular Edema  \\\n",
       "0                           NO  ...                      0   \n",
       "1                           NO  ...                      0   \n",
       "2                           NO  ...                      0   \n",
       "3                           NO  ...                      0   \n",
       "4                           NO  ...                      0   \n",
       "\n",
       "  Macular Edema (more advanced eye) GAIT - Walk 1 distance (m)  \\\n",
       "0                                 0                        NaN   \n",
       "1                                 0                        NaN   \n",
       "2                                 0                        NaN   \n",
       "3                                 0                        NaN   \n",
       "4                                 0                        NaN   \n",
       "\n",
       "  Gait (Normal) RPE Start (1-10)  Gait (Normal) RPE End (1-10)  \\\n",
       "0                            0.0                           3.0   \n",
       "1                            1.0                           3.0   \n",
       "2                            1.0                           2.0   \n",
       "3                            0.0                           3.0   \n",
       "4                            0.0                           NaN   \n",
       "\n",
       "  Gait (DT) RPE Start (1-10)  Gait (DT) RPE End (1-10)  \\\n",
       "0                        2.0                       5.0   \n",
       "1                        1.0                       1.0   \n",
       "2                        1.0                       3.0   \n",
       "3                        2.0                       3.0   \n",
       "4                        NaN                       NaN   \n",
       "\n",
       "  GAIT - Walk 1 speed (m/s)  Gait (Dual Task) - Distance (m)  \\\n",
       "0                       NaN                           342.72   \n",
       "1                       NaN                           228.66   \n",
       "2                       NaN                           364.51   \n",
       "3                       NaN                           272.23   \n",
       "4                  0.978139                              NaN   \n",
       "\n",
       "  Gait (Dual Task) - Speed (m/s)  \n",
       "0                       0.952000  \n",
       "1                       0.635167  \n",
       "2                       1.012528  \n",
       "3                       0.756194  \n",
       "4                            NaN  \n",
       "\n",
       "[5 rows x 170 columns]"
      ]
     },
     "execution_count": 4,
     "metadata": {},
     "output_type": "execute_result"
    }
   ],
   "source": [
    "#Five first rows of our data set\n",
    "df.head()"
   ]
  },
  {
   "cell_type": "code",
   "execution_count": 5,
   "metadata": {},
   "outputs": [
    {
     "data": {
      "text/plain": [
       "(121, 170)"
      ]
     },
     "execution_count": 5,
     "metadata": {},
     "output_type": "execute_result"
    }
   ],
   "source": [
    "#Number of rows and columns in our data set\n",
    "df.shape"
   ]
  },
  {
   "cell_type": "code",
   "execution_count": 6,
   "metadata": {},
   "outputs": [
    {
     "data": {
      "text/plain": [
       "170"
      ]
     },
     "execution_count": 6,
     "metadata": {},
     "output_type": "execute_result"
    }
   ],
   "source": [
    "#Number of unique columns in our data set\n",
    "df.columns.nunique()"
   ]
  },
  {
   "cell_type": "code",
   "execution_count": 52,
   "metadata": {},
   "outputs": [
    {
     "data": {
      "text/plain": [
       "Index(['patient ID', 'Visit', 'PREVIOUS TOBACCO USE', 'CURRENT TOBACCO USE',\n",
       "       'PackYears', 'Years', 'PREVIOUS ALCOHOL USE', 'CURRENT ALCOHOL USE',\n",
       "       'ALCOHOL Dose/Week', 'Dizziness AUTONOMIC SYMPTOMS',\n",
       "       ...\n",
       "       'Macular Edema (more advanced eye)', 'GAIT - Walk 1 distance (m)',\n",
       "       'Gait (Normal) RPE Start (1-10)', 'Gait (Normal) RPE End (1-10)',\n",
       "       'Gait (DT) RPE Start (1-10)', 'Gait (DT) RPE End (1-10)',\n",
       "       'GAIT - Walk 1 speed (m/s)', 'Gait (Dual Task) - Distance (m)',\n",
       "       'Gait (Dual Task) - Speed (m/s)', 'Years_category'],\n",
       "      dtype='object', length=171)"
      ]
     },
     "execution_count": 52,
     "metadata": {},
     "output_type": "execute_result"
    }
   ],
   "source": [
    "\"\"\" This is supposed to show every single column in the data set but since there are too many\n",
    "only a few are being shown \"\"\"\n",
    "\n",
    "df.columns.unique()"
   ]
  },
  {
   "cell_type": "code",
   "execution_count": 8,
   "metadata": {},
   "outputs": [
    {
     "data": {
      "text/plain": [
       "0    89.0\n",
       "1    96.0\n",
       "2    85.0\n",
       "3    99.0\n",
       "4    83.0\n",
       "Name: GLUCOSE mg/dL, dtype: float64"
      ]
     },
     "execution_count": 8,
     "metadata": {},
     "output_type": "execute_result"
    }
   ],
   "source": [
    "#Five first rows of our variable Glucose level \n",
    "df['GLUCOSE mg/dL'].head()"
   ]
  },
  {
   "cell_type": "code",
   "execution_count": 9,
   "metadata": {},
   "outputs": [
    {
     "data": {
      "text/plain": [
       "count     74.000000\n",
       "mean     107.972973\n",
       "std       35.033046\n",
       "min       63.000000\n",
       "25%       86.750000\n",
       "50%       98.000000\n",
       "75%      121.250000\n",
       "max      262.000000\n",
       "Name: GLUCOSE mg/dL, dtype: float64"
      ]
     },
     "execution_count": 9,
     "metadata": {},
     "output_type": "execute_result"
    }
   ],
   "source": [
    "# 5-Number summary for the level of glucose in mg/dl\n",
    "\"\"\"This summary provide us with vital information about the glucose level in our observations.\n",
    "Please have a look to the following highlights:\n",
    "•We can see that the avg glucose level in our data set is 107.9 mg/dL\n",
    "•25% of the people in this data set has a glucose level of 86 mg/dL or lower\n",
    "•50 % of the people in this data set has a glucose level below 98 mg/dL and 50% has a glucose level above 98 mg/dL\n",
    "•25 % of the people in this data set has a glucose level of 121 mg/dL or higher\n",
    "•The highest level of glucose recorded is 262 mg/dL while the lowest is 63 mg/dL\n",
    "•Assuming we had a normal distribution, we can say that 68% of our data set has a glucose level between 72 mg/dL and 142 mg/dL.\n",
    "We can also say that 34% of our observations has a glucose level between 72 mg/dL and 107 mg/dL and 34% of our \n",
    "observations has a glucose level between 107 mg/dL and 142 mg/dL. \"\"\"\n",
    "\n",
    "df['GLUCOSE mg/dL'].describe()"
   ]
  },
  {
   "cell_type": "code",
   "execution_count": 10,
   "metadata": {},
   "outputs": [
    {
     "data": {
      "text/plain": [
       "Text(0.5, 1.0, 'Histogram of Glucose Level')"
      ]
     },
     "execution_count": 10,
     "metadata": {},
     "output_type": "execute_result"
    },
    {
     "data": {
      "image/png": "[encoded data removed]",
      "text/plain": [
       "<Figure size 432x288 with 1 Axes>"
      ]
     },
     "metadata": {
      "needs_background": "light"
     },
     "output_type": "display_data"
    }
   ],
   "source": [
    "#Histogram of the variable glucose mg/dl\n",
    "\"\"\"\" This histogram matches the information obtained from the 5-number summary and a bit\n",
    "more of information about the variable glucose mg/dl. As stated on the summary, we can see a larger mean than \n",
    "the median due to the right skewed distribution. We can also see a few outliers on the higher end around 200 mg/dl. \"\"\"\n",
    "\n",
    "\n",
    "df['GLUCOSE mg/dL'].plot(kind='hist').set_title('Histogram of Glucose Level')"
   ]
  },
  {
   "cell_type": "code",
   "execution_count": 53,
   "metadata": {},
   "outputs": [
    {
     "data": {
      "text/plain": [
       "Text(0.5, 1.0, 'Boxplot of Glucose Level')"
      ]
     },
     "execution_count": 53,
     "metadata": {},
     "output_type": "execute_result"
    },
    {
     "data": {
      "image/png": "[encoded data removed]",
      "text/plain": [
       "<Figure size 432x288 with 1 Axes>"
      ]
     },
     "metadata": {},
     "output_type": "display_data"
    }
   ],
   "source": [
    "#Boxplot of the variable glucose mg/dl\n",
    "\n",
    "\"\"\" This boxplot shows our 5-number summary and some additional information not shown in the histogram above. \n",
    "For example, with this boxplot we can clearly see our IQR which is where 50% of our observations would fall. \n",
    "In this case, the IQR is somewhere between 86 mg/dl  and 121 mg/dl \"\"\"\n",
    "\n",
    "df['GLUCOSE mg/dL'].plot(kind='box').set_title('Boxplot of Glucose Level')"
   ]
  },
  {
   "cell_type": "code",
   "execution_count": 54,
   "metadata": {},
   "outputs": [],
   "source": [
    "#This line of code removes all null values found in our column Years \n",
    "Age_without_null_values=  df.Years.dropna()"
   ]
  },
  {
   "cell_type": "code",
   "execution_count": 55,
   "metadata": {},
   "outputs": [
    {
     "data": {
      "text/plain": [
       "1     40.0\n",
       "5     25.0\n",
       "11    25.0\n",
       "13     2.0\n",
       "14    13.0\n",
       "Name: Years, dtype: float64"
      ]
     },
     "execution_count": 55,
     "metadata": {},
     "output_type": "execute_result"
    }
   ],
   "source": [
    "Age_without_null_values.head()"
   ]
  },
  {
   "cell_type": "code",
   "execution_count": 14,
   "metadata": {},
   "outputs": [
    {
     "data": {
      "text/plain": [
       "20"
      ]
     },
     "execution_count": 14,
     "metadata": {},
     "output_type": "execute_result"
    }
   ],
   "source": [
    "#Count of unique years found in our data set\n",
    "Age_without_Null_values.nunique()"
   ]
  },
  {
   "cell_type": "code",
   "execution_count": 15,
   "metadata": {},
   "outputs": [
    {
     "data": {
      "text/plain": [
       "array([40., 25.,  2., 13., 17.,  1., 30., 34., 19., 16., 10., 15., 31.,\n",
       "       44., 18., 50., 46.,  5., 20.,  0.])"
      ]
     },
     "execution_count": 15,
     "metadata": {},
     "output_type": "execute_result"
    }
   ],
   "source": [
    "#List of years found in our data set\n",
    "Age_without_Null_values.unique()"
   ]
  },
  {
   "cell_type": "code",
   "execution_count": 59,
   "metadata": {},
   "outputs": [
    {
     "data": {
      "text/plain": [
       "Text(0.5, 1.0, 'Boxplot of Glucose Level Stratified by Age Group')"
      ]
     },
     "execution_count": 59,
     "metadata": {},
     "output_type": "execute_result"
    },
    {
     "data": {
      "image/png": "[encoded data removed]",
      "text/plain": [
       "<Figure size 864x360 with 1 Axes>"
      ]
     },
     "metadata": {},
     "output_type": "display_data"
    }
   ],
   "source": [
    "\n",
    "sns.set_style(\"whitegrid\")\n",
    "df[\"Years_category\"] = pd.cut(Age_without_Null_values, [10, 20, 30,40, 50, 60, 70, 80]) # Create age strata based on these cut points\n",
    "plt.figure(figsize=(12, 5))  # Make the figure wider than default (12cm wide by 5cm tall)\n",
    "# Make boxplot of GLUCOSE mg/dL stratified by age group:\n",
    "sns.boxplot(x=\"Years_category\", y=\"GLUCOSE mg/dL\", data=df).set_title('Boxplot of Glucose Level Stratified by Age Group') \n",
    "\n",
    "# This graph shows us glucose level stratified by age group\n"
   ]
  },
  {
   "cell_type": "code",
   "execution_count": 57,
   "metadata": {},
   "outputs": [
    {
     "data": {
      "text/plain": [
       "'This graph shows us glucose level stratified by age group and \\nhyperlipidemia (A condition in which there are high levels of fat particles (lipids) in the blood). From this boxplot\\nwe can see that people between 10 and 30 years old who have hyperlipidemia tend to have a higher glucose level in \\ntheir blood.'"
      ]
     },
     "execution_count": 57,
     "metadata": {},
     "output_type": "execute_result"
    },
    {
     "data": {
      "image/png": "[encoded data removed]",
      "text/plain": [
       "<Figure size 864x360 with 1 Axes>"
      ]
     },
     "metadata": {},
     "output_type": "display_data"
    }
   ],
   "source": [
    "\n",
    "sns.set_style(\"whitegrid\")\n",
    "df[\"Years_category\"] = pd.cut(Age_without_Null_values, [10, 20, 30,40, 50, 60, 70, 80]) # Create age strata based on these cut points\n",
    "plt.figure(figsize=(12, 5))  # Make the figure wider than default (12cm wide by 5cm tall)\n",
    "# Make boxplot of GLUCOSE mg/dL stratified by age group:\n",
    "sns.boxplot(x=\"Years_category\", y=\"GLUCOSE mg/dL\",hue='HYPERLIPIDEMIA PATIENT MEDICAL HISTORY', data=df).set_title('Boxplot of Glucose Level Stratified by Age Group')  \n",
    "\n",
    "\"\"\"This graph shows us glucose level stratified by age group and \n",
    "hyperlipidemia (A condition in which there are high levels of fat particles (lipids) in the blood). From this boxplot\n",
    "we can see that people between 10 and 30 years old who have hyperlipidemia tend to have a higher glucose level in \n",
    "their blood.\"\"\""
   ]
  },
  {
   "cell_type": "code",
   "execution_count": 42,
   "metadata": {},
   "outputs": [
    {
     "data": {
      "text/plain": [
       "Text(0.5, 1.0, ' Glucose Level and Red Blood Cell Count (RBC) Relationship')"
      ]
     },
     "execution_count": 42,
     "metadata": {},
     "output_type": "execute_result"
    },
    {
     "data": {
      "image/png": "[encoded data removed]",
      "text/plain": [
       "<Figure size 432x288 with 1 Axes>"
      ]
     },
     "metadata": {},
     "output_type": "display_data"
    }
   ],
   "source": [
    "# Scatterplot showing the relationship between glucose level and red blood cell count (RBC)\n",
    "\"\"\"It seems to be a linear moderate positive association between glucose level and red blood cell count \"\"\"\n",
    "df.plot(kind='scatter' , x='GLUCOSE mg/dL', y= 'RBC m/uL').set_title (' Glucose Level and Red Blood Cell Count (RBC) Relationship')"
   ]
  }
 ],
 "metadata": {
  "kernelspec": {
   "display_name": "Python 3",
   "language": "python",
   "name": "python3"
  },
  "language_info": {
   "codemirror_mode": {
    "name": "ipython",
    "version": 3
   },
   "file_extension": ".py",
   "mimetype": "text/x-python",
   "name": "python",
   "nbconvert_exporter": "python",
   "pygments_lexer": "ipython3",
   "version": "3.8.5"
  }
 },
 "nbformat": 4,
 "nbformat_minor": 4
}
